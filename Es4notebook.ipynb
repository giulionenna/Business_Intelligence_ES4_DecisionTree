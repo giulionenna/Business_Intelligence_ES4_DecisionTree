{
 "metadata": {
  "language_info": {
   "codemirror_mode": {
    "name": "ipython",
    "version": 3
   },
   "file_extension": ".py",
   "mimetype": "text/x-python",
   "name": "python",
   "nbconvert_exporter": "python",
   "pygments_lexer": "ipython3",
   "version": "3.8.3"
  },
  "orig_nbformat": 2,
  "kernelspec": {
   "name": "python383jvsc74a57bd0b0c5e0e2f737906a831bf449faf126f39cd636d4f6af7f79c115270e6548b001",
   "display_name": "Python 3.8.3 64-bit"
  },
  "metadata": {
   "interpreter": {
    "hash": "b0c5e0e2f737906a831bf449faf126f39cd636d4f6af7f79c115270e6548b001"
   }
  }
 },
 "nbformat": 4,
 "nbformat_minor": 2,
 "cells": [
  {
   "cell_type": "code",
   "execution_count": null,
   "metadata": {},
   "outputs": [],
   "source": [
    "pip install pandas\n"
   ]
  },
  {
   "cell_type": "code",
   "execution_count": null,
   "metadata": {},
   "outputs": [],
   "source": [
    "pip install pydotplus"
   ]
  },
  {
   "cell_type": "code",
   "execution_count": null,
   "metadata": {},
   "outputs": [],
   "source": [
    "pip install matplotlib"
   ]
  },
  {
   "cell_type": "code",
   "execution_count": null,
   "metadata": {},
   "outputs": [],
   "source": [
    "pip install numpy"
   ]
  },
  {
   "cell_type": "code",
   "execution_count": null,
   "metadata": {},
   "outputs": [],
   "source": [
    "pip install graphviz"
   ]
  },
  {
   "cell_type": "code",
   "execution_count": null,
   "metadata": {},
   "outputs": [],
   "source": [
    "pip install sklearn"
   ]
  },
  {
   "cell_type": "code",
   "execution_count": null,
   "metadata": {},
   "outputs": [],
   "source": [
    "pip install xlrd"
   ]
  },
  {
   "cell_type": "code",
   "execution_count": null,
   "metadata": {},
   "outputs": [],
   "source": [
    "import pandas as pd\n",
    "import numpy as np\n",
    "from sklearn import tree\n",
    "import sklearn\n",
    "from IPython.display import Image  \n",
    "import pydotplus\n",
    "import matplotlib\n",
    "pd.set_option('display.max_rows', 500)\n"
   ]
  },
  {
   "source": [
    "Andiamo a importare i dati, utilizzando questo metodo per specificare il percorso. Nella funzione read_excel possiamo andare a specificare il missing value, che verrà tradotto con un NaN.\n",
    "\n",
    "I dati devono quindi essere convertiti in un dataframe."
   ],
   "cell_type": "markdown",
   "metadata": {}
  },
  {
   "cell_type": "code",
   "execution_count": null,
   "metadata": {
    "tags": []
   },
   "outputs": [],
   "source": [
    "\n",
    "data = pd.read_excel(r'C:\\Users\\giuli\\Documents\\GitHub\\Business_Intelligence_ES4_DecisionTree\\Users.xls', na_values='?')\n",
    "df = pd.DataFrame(data)\n",
    "df[df['Workclass'].isna()]"
   ]
  },
  {
   "source": [
    "Andiamo a sostituire i dati mancanti con i dati della colonna più frequenti (ossia la moda). l'output di df.mode ha due righe perché nella colonna 'Age' sono presenti due mode. "
   ],
   "cell_type": "markdown",
   "metadata": {}
  },
  {
   "cell_type": "code",
   "execution_count": null,
   "metadata": {},
   "outputs": [],
   "source": [
    "df.mode()"
   ]
  },
  {
   "source": [
    "andiamo a fillare tutti gli NaN con la moda della rispettiva colonna"
   ],
   "cell_type": "markdown",
   "metadata": {}
  },
  {
   "cell_type": "code",
   "execution_count": null,
   "metadata": {},
   "outputs": [],
   "source": [
    "df = df.fillna(df.mode().iloc[0])\n",
    "df[df['Workclass'].isna()]\n",
    "df.dtypes\n",
    "df_enc = df\n",
    "\n",
    "for col in df_enc.columns:\n",
    "    df_enc[col]=df_enc[col].astype('category')\n",
    "    df_enc[col]=df_enc[col].cat.codes\n",
    "\n",
    "df_enc['Age']=df_enc['Age'].astype('int64')\n",
    "\n",
    "df_enc"
   ]
  },
  {
   "cell_type": "code",
   "execution_count": null,
   "metadata": {},
   "outputs": [],
   "source": [
    "dfX= df_enc.iloc[:, 0:9]\n",
    "dfY = df_enc.iloc[:, 9]"
   ]
  },
  {
   "cell_type": "code",
   "execution_count": null,
   "metadata": {},
   "outputs": [],
   "source": [
    "clf = tree.DecisionTreeClassifier(max_depth=5)\n",
    "clf = clf.fit(dfX, dfY)\n",
    "tree.plot_tree(clf, feature_names=df_enc.columns)\n",
    "matplotlib.pyplot.show()\n"
   ]
  },
  {
   "cell_type": "code",
   "execution_count": null,
   "metadata": {},
   "outputs": [],
   "source": [
    "data_topredict = pd.read_excel(r'C:\\Users\\giuli\\Documents\\GitHub\\Business_Intelligence_ES4_DecisionTree\\Prospects.xls', na_values='?')\n",
    "df_toPredict= pd.DataFrame(data_topredict)"
   ]
  },
  {
   "cell_type": "code",
   "execution_count": null,
   "metadata": {},
   "outputs": [],
   "source": [
    "df_toPredict.head()"
   ]
  },
  {
   "cell_type": "code",
   "execution_count": null,
   "metadata": {},
   "outputs": [],
   "source": [
    "for col in df_toPredict.columns:\n",
    "    df_toPredict[col] = df_toPredict[col].astype('category')\n",
    "    df_toPredict[col] = df_toPredict[col].cat.codes\n",
    "\n",
    "df_toPredict['Age'] = df_toPredict['Age'].astype('int64')"
   ]
  },
  {
   "cell_type": "code",
   "execution_count": null,
   "metadata": {},
   "outputs": [],
   "source": [
    "predictions = clf.predict(df_toPredict)"
   ]
  },
  {
   "cell_type": "code",
   "execution_count": null,
   "metadata": {},
   "outputs": [],
   "source": [
    "predictions[33]"
   ]
  },
  {
   "cell_type": "code",
   "execution_count": null,
   "metadata": {},
   "outputs": [],
   "source": [
    "clf.score(dfX, dfY)"
   ]
  },
  {
   "source": [
    "Provo a fare un k-fold cross validation. Uso la classe StratifieKFold per creare l'oggetto folds. Questo mi permetterà di stratificare il dataset."
   ],
   "cell_type": "markdown",
   "metadata": {}
  },
  {
   "cell_type": "code",
   "execution_count": null,
   "metadata": {},
   "outputs": [],
   "source": [
    "from sklearn.model_selection import StratifiedKFold\n",
    "folds = StratifiedKFold(n_splits = 20)"
   ]
  },
  {
   "source": [
    "ho creato l'oggetto folds che mi permette di stratificare il dataset. Una volta splittato con il metodo split avro degli indici (degli iteratori) che vanno usati all'interno del ciclo for per selezionare il dataset di train e quello di test, esattamente come nel codice sotto"
   ],
   "cell_type": "markdown",
   "metadata": {}
  },
  {
   "cell_type": "code",
   "execution_count": null,
   "metadata": {},
   "outputs": [],
   "source": [
    "splits =folds.split(dfX, dfY)\n",
    "clf_k = tree.DecisionTreeClassifier(max_depth=20)\n",
    "score = []\n",
    "for train_index, test_index in splits:\n",
    "    \n",
    "    kX = dfX.iloc[train_index, :]\n",
    "    kY = dfY[train_index]\n",
    "    \n",
    "    clf_k = clf_k.fit(kX, kY)\n",
    "    \n",
    "    k_test_X = dfX.iloc[test_index, :]\n",
    "    k_test_Y = dfY.iloc[test_index]\n",
    "    score.append(clf_k.score(k_test_X, k_test_Y))\n",
    "    \n",
    "print(score)\n"
   ]
  },
  {
   "source": [
    "Tuttavia posso fare la stessa identica cosa con il metodo cross_val_score. Basta che gli passo il costruttore del modello che voglio testare, i dati e i responsi. Il numero di k folds fissato è 5 ma può variare"
   ],
   "cell_type": "markdown",
   "metadata": {}
  },
  {
   "cell_type": "code",
   "execution_count": null,
   "metadata": {},
   "outputs": [],
   "source": [
    "from sklearn.model_selection import cross_val_score"
   ]
  },
  {
   "cell_type": "code",
   "execution_count": null,
   "metadata": {},
   "outputs": [],
   "source": [
    "cross_val_score(tree.DecisionTreeClassifier(max_depth = 7), dfX, dfY).mean()"
   ]
  },
  {
   "source": [
    "andiamo a vedere come varia la precisione del decision tree classifier al variare della sua profondità massima:"
   ],
   "cell_type": "markdown",
   "metadata": {}
  },
  {
   "cell_type": "code",
   "execution_count": null,
   "metadata": {},
   "outputs": [],
   "source": [
    "scores = []\n",
    "for i in range(1,50,1):\n",
    "    scores.append(cross_val_score(tree.DecisionTreeClassifier(max_depth=i), dfX, dfY).mean())"
   ]
  },
  {
   "cell_type": "code",
   "execution_count": null,
   "metadata": {},
   "outputs": [],
   "source": [
    "import matplotlib.pyplot as plt"
   ]
  },
  {
   "cell_type": "code",
   "execution_count": null,
   "metadata": {},
   "outputs": [],
   "source": [
    "fig, ax = plt.subplots()\n",
    "ax.plot(range(1,50,1), scores)\n",
    "ax.grid()"
   ]
  },
  {
   "cell_type": "code",
   "execution_count": null,
   "metadata": {},
   "outputs": [],
   "source": []
  }
 ]
}